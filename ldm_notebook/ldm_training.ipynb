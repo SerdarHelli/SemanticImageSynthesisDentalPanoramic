{
 "cells": [
  {
   "cell_type": "code",
   "execution_count": null,
   "metadata": {
    "colab": {
     "base_uri": "https://localhost:8080/"
    },
    "id": "XY7HHHxPUPBv",
    "outputId": "3f2ad26d-282e-4008-e11b-9e6cebba616b"
   },
   "outputs": [],
   "source": [
    "from google.colab import drive\n",
    "drive.mount('/content/drive')"
   ]
  },
  {
   "cell_type": "code",
   "execution_count": null,
   "metadata": {
    "colab": {
     "base_uri": "https://localhost:8080/"
    },
    "id": "sN21V8CbAuYS",
    "outputId": "b024a926-582d-4c59-b9d6-5c2351b02be9"
   },
   "outputs": [],
   "source": [
    "!git clone https://github.com/SerdarHelli/latent-diffusion_teeth_sub_repo.git"
   ]
  },
  {
   "cell_type": "code",
   "execution_count": null,
   "metadata": {
    "id": "DVURjfilU3Yd"
   },
   "outputs": [],
   "source": [
    "import os\n",
    "DATA_PATH=\"/content/latent-diffusion/data/Tufts_Raw_Train\"\n",
    "if not os.path.isdir(DATA_PATH):\n",
    "  os.makedirs(DATA_PATH)\n",
    "\n",
    "!cp /content/drive/MyDrive/Tufs_Raw_Train/* /content/latent-diffusion/data/Tufts_Raw_Train"
   ]
  },
  {
   "cell_type": "code",
   "execution_count": null,
   "metadata": {
    "id": "aD2rHRSKAM6F"
   },
   "outputs": [],
   "source": [
    "import os\n",
    "DATA_PATH=\"/content/latent-diffusion/data/Tufts_Raw_Val\"\n",
    "if not os.path.isdir(DATA_PATH):\n",
    "  os.makedirs(DATA_PATH)\n",
    "\n",
    "!cp /content/drive/MyDrive/Tufs_Raw_Val/* /content/latent-diffusion/data/Tufts_Raw_Val"
   ]
  },
  {
   "cell_type": "code",
   "execution_count": null,
   "metadata": {
    "id": "i18KNYGXcOFS"
   },
   "outputs": [],
   "source": [
    "!cp /content/latent-diffusion/construct.yaml /content/construct.yaml\n",
    "!cp /content/latent-diffusion/pip-dependencies.sh /content/pip-dependencies.sh\n"
   ]
  },
  {
   "cell_type": "code",
   "execution_count": null,
   "metadata": {
    "colab": {
     "base_uri": "https://localhost:8080/"
    },
    "id": "HiBNXYOjcNTj",
    "outputId": "e3d78859-c10f-49e2-fda6-64e16e61786d"
   },
   "outputs": [],
   "source": [
    "!pip install -q condacolab\n",
    "import condacolab\n",
    "condacolab.install()"
   ]
  },
  {
   "cell_type": "code",
   "execution_count": null,
   "metadata": {
    "colab": {
     "base_uri": "https://localhost:8080/"
    },
    "id": "Ndp_SGb2cdt0",
    "outputId": "84439802-e03f-4cc3-e22c-3fe26af33e5f"
   },
   "outputs": [],
   "source": [
    "!mamba install -q constructor\n",
    "!constructor /content/"
   ]
  },
  {
   "cell_type": "code",
   "execution_count": null,
   "metadata": {
    "colab": {
     "base_uri": "https://localhost:8080/"
    },
    "id": "voJRo_NVlMaX",
    "outputId": "961f8f27-11c3-4642-e893-a5708c3192af"
   },
   "outputs": [],
   "source": [
    "%cd /content/latent-diffusion"
   ]
  },
  {
   "cell_type": "code",
   "execution_count": null,
   "metadata": {
    "colab": {
     "base_uri": "https://localhost:8080/"
    },
    "id": "VH_ln0KGpJzs",
    "outputId": "c35358d7-9005-4225-e267-dd6e7e21bde3"
   },
   "outputs": [],
   "source": [
    "!bash /content/pip-dependencies.sh"
   ]
  },
  {
   "cell_type": "code",
   "execution_count": null,
   "metadata": {
    "colab": {
     "base_uri": "https://localhost:8080/"
    },
    "id": "Eqh6BGlrlOB-",
    "outputId": "977a43bf-3a8b-44c4-8da2-5f14bb0a768d"
   },
   "outputs": [],
   "source": [
    "!pip install -e ."
   ]
  },
  {
   "cell_type": "code",
   "execution_count": null,
   "metadata": {
    "colab": {
     "base_uri": "https://localhost:8080/"
    },
    "id": "zZWpX35MO-Wi",
    "outputId": "e9930442-0c99-4c98-848b-ce7cea0f002c"
   },
   "outputs": [],
   "source": [
    "!nvidia-smi"
   ]
  },
  {
   "cell_type": "code",
   "execution_count": null,
   "metadata": {
    "id": "WR2phKUhvvjZ"
   },
   "outputs": [],
   "source": [
    "# !pip install  kornia==0.6.5  for vqgan"
   ]
  },
  {
   "cell_type": "code",
   "execution_count": null,
   "metadata": {
    "id": "q_tyyqQLmgZi"
   },
   "outputs": [],
   "source": [
    "#VQGAN training - Needs Premium Colab\n",
    "#!CUDA_VISIBLE_DEVICES=0 python main.py --base /content/latent-diffusion/vq_config.yaml --logdir=/content/drive/MyDrive/VQGanTeeth -t --resume=/content/drive/MyDrive/VQGanTeeth/2022-10-29T10-34-42_vq_config/checkpoints/epoch=000311.ckpt --gpus 0,"
   ]
  },
  {
   "cell_type": "code",
   "execution_count": null,
   "metadata": {
    "colab": {
     "base_uri": "https://localhost:8080/"
    },
    "id": "4GRfLIMSBQ5Z",
    "outputId": "c7bed6d4-e84c-4a4c-9a34-82984c76616d"
   },
   "outputs": [],
   "source": [
    "!CUDA_VISIBLE_DEVICES=0 python main.py --base /content/latent-diffusion/models/ldm/teeth/config.yaml --resume=/content/drive/MyDrive/LatentDiffTeeth/2022-11-01T19-41-14_config/checkpoints/last.ckpt -t --gpus 0,"
   ]
  }
 ],
 "metadata": {
  "accelerator": "GPU",
  "colab": {
   "collapsed_sections": [],
   "machine_shape": "hm",
   "provenance": []
  },
  "gpuClass": "standard",
  "kernelspec": {
   "display_name": "Python 3 (ipykernel)",
   "language": "python",
   "name": "python3"
  },
  "language_info": {
   "codemirror_mode": {
    "name": "ipython",
    "version": 3
   },
   "file_extension": ".py",
   "mimetype": "text/x-python",
   "name": "python",
   "nbconvert_exporter": "python",
   "pygments_lexer": "ipython3",
   "version": "3.9.7"
  }
 },
 "nbformat": 4,
 "nbformat_minor": 1
}
